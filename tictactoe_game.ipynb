{
 "cells": [
  {
   "cell_type": "code",
   "execution_count": 1,
   "id": "02bb81a7",
   "metadata": {},
   "outputs": [],
   "source": [
    "from IPython.display import clear_output\n",
    "\n",
    "def display_board(board):\n",
    "    clear_output()\n",
    "    print(board[7]+'|'+board[8]+'|'+board[9])\n",
    "    print('-----')\n",
    "    print(board[4]+'|'+board[5]+'|'+board[6])\n",
    "    print('-----')\n",
    "    print(board[1]+'|'+board[2]+'|'+board[3])"
   ]
  },
  {
   "cell_type": "code",
   "execution_count": 2,
   "id": "a7191446",
   "metadata": {},
   "outputs": [],
   "source": [
    "from IPython.display import clear_output\n",
    "\n",
    "def display_board(board):\n",
    "    board = [' ','|',' ','|',' ']\n",
    "    bar ='-----------'\n",
    "    for i in range(0,3):\n",
    "        print(board)\n",
    "        print(bar)"
   ]
  },
  {
   "cell_type": "code",
   "execution_count": 3,
   "id": "5d8fd4f5",
   "metadata": {},
   "outputs": [],
   "source": [
    "def player_input():\n",
    "    \n",
    "    marker = ''\n",
    "    while marker != 'X' and marker != 'O':\n",
    "        marker = input('Player1, Choose \"X\" or \"O\": ')\n",
    "        if marker != 'X' and marker != 'O':\n",
    "            print(\"it's not acceptable\")\n",
    "    player1 = marker\n",
    "    if player1 == 'X':\n",
    "        player2 = 'O'\n",
    "    else:\n",
    "        player2 = 'X'\n",
    "    return(player1,player2)"
   ]
  },
  {
   "cell_type": "code",
   "execution_count": 4,
   "id": "9089eaad",
   "metadata": {},
   "outputs": [],
   "source": [
    "def place_marker(board, marker, position):\n",
    "    board[position] = marker\n",
    "    pass"
   ]
  },
  {
   "cell_type": "code",
   "execution_count": 5,
   "id": "97c86e29",
   "metadata": {},
   "outputs": [],
   "source": [
    "def win_check(board, mark):\n",
    "    return ((board[7] == mark and board[8] == mark and board[9] == mark) or\n",
    "    (board[4] == mark and board[5] == mark and board[6] == mark) or \n",
    "    (board[1] == mark and board[2] == mark and board[3] == mark) or \n",
    "    (board[7] == mark and board[4] == mark and board[1] == mark) or \n",
    "    (board[8] == mark and board[5] == mark and board[2] == mark) or \n",
    "    (board[9] == mark and board[6] == mark and board[3] == mark) or \n",
    "    (board[7] == mark and board[5] == mark and board[3] == mark) or \n",
    "    (board[9] == mark and board[5] == mark and board[1] == mark))  "
   ]
  },
  {
   "cell_type": "code",
   "execution_count": 6,
   "id": "061cd531",
   "metadata": {},
   "outputs": [],
   "source": [
    "import random\n",
    "\n",
    "def choose_first():\n",
    "    randomnum = random.randint(1,2)\n",
    "    if randomnum == 1:\n",
    "        return 'Player1'\n",
    "    else:\n",
    "        return 'Player2'"
   ]
  },
  {
   "cell_type": "code",
   "execution_count": 7,
   "id": "daddee1d",
   "metadata": {},
   "outputs": [],
   "source": [
    "def space_check(board,position):\n",
    "    return board[position] == ' '"
   ]
  },
  {
   "cell_type": "code",
   "execution_count": 8,
   "id": "388a00bb",
   "metadata": {},
   "outputs": [],
   "source": [
    "def full_board_check(board):\n",
    "    for num in range(1,10):\n",
    "        if space_check(board,num):\n",
    "            return False\n",
    "    return True"
   ]
  },
  {
   "cell_type": "code",
   "execution_count": 9,
   "id": "b36b1c3b",
   "metadata": {},
   "outputs": [],
   "source": [
    "def player_choice(board):\n",
    "    position = 0\n",
    "    while not position in list(range(1,10)) or not space_check(board,position):\n",
    "        position = int(input('Please choose number(1-9)'))\n",
    "        if not position in list(range(1,10)):\n",
    "            print('Choose a variable number from 1 to 9')\n",
    "    return position"
   ]
  },
  {
   "cell_type": "code",
   "execution_count": 10,
   "id": "2124ba43",
   "metadata": {},
   "outputs": [],
   "source": [
    "def replay():\n",
    "    answer = 'Wrong'\n",
    "    while not answer in ['Y','N']:\n",
    "        answer = input('Do you want to play again? \"Y\" or \"N\": ')\n",
    "        if not answer in ['Y','N']:\n",
    "                print('Please choose \"Y\" or \"N\"')\n",
    "    if answer == 'Y':\n",
    "        return True\n",
    "    else:\n",
    "        return False\n",
    "    pass"
   ]
  },
  {
   "cell_type": "code",
   "execution_count": 11,
   "id": "a842372d",
   "metadata": {},
   "outputs": [],
   "source": [
    "def ready():\n",
    "    ready = 'Wrong'\n",
    "    while not ready in ['Y','N']:\n",
    "        ready = input('Are you ready to play? \"Y\" or \"N\": ')\n",
    "        if not ready in ['Y','N']:\n",
    "            print('Please choose \"Y\" or \"N\"')\n",
    "    if ready == 'Y':\n",
    "        return True\n",
    "    else:\n",
    "        return False  "
   ]
  },
  {
   "cell_type": "code",
   "execution_count": 12,
   "id": "6602301d",
   "metadata": {},
   "outputs": [
    {
     "name": "stdout",
     "output_type": "stream",
     "text": [
      "Welcome to Tic Tac Toe\n",
      "Player1, Choose \"X\" or \"O\": X\n",
      "Player1go first\n",
      "Are you ready to play? \"Y\" or \"N\": Y\n",
      "[' ', '|', ' ', '|', ' ']\n",
      "-----------\n",
      "[' ', '|', ' ', '|', ' ']\n",
      "-----------\n",
      "[' ', '|', ' ', '|', ' ']\n",
      "-----------\n",
      "Please choose number(1-9)1\n",
      "[' ', '|', ' ', '|', ' ']\n",
      "-----------\n",
      "[' ', '|', ' ', '|', ' ']\n",
      "-----------\n",
      "[' ', '|', ' ', '|', ' ']\n",
      "-----------\n",
      "Please choose number(1-9)2\n",
      "[' ', '|', ' ', '|', ' ']\n",
      "-----------\n",
      "[' ', '|', ' ', '|', ' ']\n",
      "-----------\n",
      "[' ', '|', ' ', '|', ' ']\n",
      "-----------\n",
      "[' ', '|', ' ', '|', ' ']\n",
      "-----------\n",
      "[' ', '|', ' ', '|', ' ']\n",
      "-----------\n",
      "[' ', '|', ' ', '|', ' ']\n",
      "-----------\n",
      "Please choose number(1-9)9\n",
      "[' ', '|', ' ', '|', ' ']\n",
      "-----------\n",
      "[' ', '|', ' ', '|', ' ']\n",
      "-----------\n",
      "[' ', '|', ' ', '|', ' ']\n",
      "-----------\n",
      "Please choose number(1-9)5\n",
      "[' ', '|', ' ', '|', ' ']\n",
      "-----------\n",
      "[' ', '|', ' ', '|', ' ']\n",
      "-----------\n",
      "[' ', '|', ' ', '|', ' ']\n",
      "-----------\n",
      "[' ', '|', ' ', '|', ' ']\n",
      "-----------\n",
      "[' ', '|', ' ', '|', ' ']\n",
      "-----------\n",
      "[' ', '|', ' ', '|', ' ']\n",
      "-----------\n",
      "Please choose number(1-9)11\n",
      "Choose a variable number from 1 to 9\n"
     ]
    },
    {
     "ename": "KeyboardInterrupt",
     "evalue": "Interrupted by user",
     "output_type": "error",
     "traceback": [
      "\u001b[0;31m---------------------------------------------------------------------------\u001b[0m",
      "\u001b[0;31mKeyboardInterrupt\u001b[0m                         Traceback (most recent call last)",
      "Cell \u001b[0;32mIn[12], line 18\u001b[0m\n\u001b[1;32m     15\u001b[0m \u001b[38;5;28;01mif\u001b[39;00m turn \u001b[38;5;241m==\u001b[39m \u001b[38;5;124m'\u001b[39m\u001b[38;5;124mPlayer1\u001b[39m\u001b[38;5;124m'\u001b[39m:\n\u001b[1;32m     17\u001b[0m     display_board(board)    \n\u001b[0;32m---> 18\u001b[0m     position \u001b[38;5;241m=\u001b[39m player_choice(board)\n\u001b[1;32m     19\u001b[0m     place_marker(board,player1,position)\n\u001b[1;32m     21\u001b[0m     \u001b[38;5;28;01mif\u001b[39;00m win_check(board,player1):\n",
      "Cell \u001b[0;32mIn[9], line 4\u001b[0m, in \u001b[0;36mplayer_choice\u001b[0;34m(board)\u001b[0m\n\u001b[1;32m      2\u001b[0m position \u001b[38;5;241m=\u001b[39m \u001b[38;5;241m0\u001b[39m\n\u001b[1;32m      3\u001b[0m \u001b[38;5;28;01mwhile\u001b[39;00m \u001b[38;5;129;01mnot\u001b[39;00m position \u001b[38;5;129;01min\u001b[39;00m \u001b[38;5;28mlist\u001b[39m(\u001b[38;5;28mrange\u001b[39m(\u001b[38;5;241m1\u001b[39m,\u001b[38;5;241m10\u001b[39m)) \u001b[38;5;129;01mor\u001b[39;00m \u001b[38;5;129;01mnot\u001b[39;00m space_check(board,position):\n\u001b[0;32m----> 4\u001b[0m     position \u001b[38;5;241m=\u001b[39m \u001b[38;5;28mint\u001b[39m(\u001b[38;5;28minput\u001b[39m(\u001b[38;5;124m'\u001b[39m\u001b[38;5;124mPlease choose number(1-9)\u001b[39m\u001b[38;5;124m'\u001b[39m))\n\u001b[1;32m      5\u001b[0m     \u001b[38;5;28;01mif\u001b[39;00m \u001b[38;5;129;01mnot\u001b[39;00m position \u001b[38;5;129;01min\u001b[39;00m \u001b[38;5;28mlist\u001b[39m(\u001b[38;5;28mrange\u001b[39m(\u001b[38;5;241m1\u001b[39m,\u001b[38;5;241m10\u001b[39m)):\n\u001b[1;32m      6\u001b[0m         \u001b[38;5;28mprint\u001b[39m(\u001b[38;5;124m'\u001b[39m\u001b[38;5;124mChoose a variable number from 1 to 9\u001b[39m\u001b[38;5;124m'\u001b[39m)\n",
      "File \u001b[0;32m~/anaconda3/lib/python3.11/site-packages/ipykernel/kernelbase.py:1175\u001b[0m, in \u001b[0;36mKernel.raw_input\u001b[0;34m(self, prompt)\u001b[0m\n\u001b[1;32m   1171\u001b[0m \u001b[38;5;28;01mif\u001b[39;00m \u001b[38;5;129;01mnot\u001b[39;00m \u001b[38;5;28mself\u001b[39m\u001b[38;5;241m.\u001b[39m_allow_stdin:\n\u001b[1;32m   1172\u001b[0m     \u001b[38;5;28;01mraise\u001b[39;00m StdinNotImplementedError(\n\u001b[1;32m   1173\u001b[0m         \u001b[38;5;124m\"\u001b[39m\u001b[38;5;124mraw_input was called, but this frontend does not support input requests.\u001b[39m\u001b[38;5;124m\"\u001b[39m\n\u001b[1;32m   1174\u001b[0m     )\n\u001b[0;32m-> 1175\u001b[0m \u001b[38;5;28;01mreturn\u001b[39;00m \u001b[38;5;28mself\u001b[39m\u001b[38;5;241m.\u001b[39m_input_request(\n\u001b[1;32m   1176\u001b[0m     \u001b[38;5;28mstr\u001b[39m(prompt),\n\u001b[1;32m   1177\u001b[0m     \u001b[38;5;28mself\u001b[39m\u001b[38;5;241m.\u001b[39m_parent_ident[\u001b[38;5;124m\"\u001b[39m\u001b[38;5;124mshell\u001b[39m\u001b[38;5;124m\"\u001b[39m],\n\u001b[1;32m   1178\u001b[0m     \u001b[38;5;28mself\u001b[39m\u001b[38;5;241m.\u001b[39mget_parent(\u001b[38;5;124m\"\u001b[39m\u001b[38;5;124mshell\u001b[39m\u001b[38;5;124m\"\u001b[39m),\n\u001b[1;32m   1179\u001b[0m     password\u001b[38;5;241m=\u001b[39m\u001b[38;5;28;01mFalse\u001b[39;00m,\n\u001b[1;32m   1180\u001b[0m )\n",
      "File \u001b[0;32m~/anaconda3/lib/python3.11/site-packages/ipykernel/kernelbase.py:1217\u001b[0m, in \u001b[0;36mKernel._input_request\u001b[0;34m(self, prompt, ident, parent, password)\u001b[0m\n\u001b[1;32m   1214\u001b[0m             \u001b[38;5;28;01mbreak\u001b[39;00m\n\u001b[1;32m   1215\u001b[0m \u001b[38;5;28;01mexcept\u001b[39;00m \u001b[38;5;167;01mKeyboardInterrupt\u001b[39;00m:\n\u001b[1;32m   1216\u001b[0m     \u001b[38;5;66;03m# re-raise KeyboardInterrupt, to truncate traceback\u001b[39;00m\n\u001b[0;32m-> 1217\u001b[0m     \u001b[38;5;28;01mraise\u001b[39;00m \u001b[38;5;167;01mKeyboardInterrupt\u001b[39;00m(\u001b[38;5;124m\"\u001b[39m\u001b[38;5;124mInterrupted by user\u001b[39m\u001b[38;5;124m\"\u001b[39m) \u001b[38;5;28;01mfrom\u001b[39;00m \u001b[38;5;28;01mNone\u001b[39;00m\n\u001b[1;32m   1218\u001b[0m \u001b[38;5;28;01mexcept\u001b[39;00m \u001b[38;5;167;01mException\u001b[39;00m:\n\u001b[1;32m   1219\u001b[0m     \u001b[38;5;28mself\u001b[39m\u001b[38;5;241m.\u001b[39mlog\u001b[38;5;241m.\u001b[39mwarning(\u001b[38;5;124m\"\u001b[39m\u001b[38;5;124mInvalid Message:\u001b[39m\u001b[38;5;124m\"\u001b[39m, exc_info\u001b[38;5;241m=\u001b[39m\u001b[38;5;28;01mTrue\u001b[39;00m)\n",
      "\u001b[0;31mKeyboardInterrupt\u001b[0m: Interrupted by user"
     ]
    }
   ],
   "source": [
    "print('Welcome to Tic Tac Toe')\n",
    "\n",
    "while True:\n",
    "    \n",
    "    player1, player2 = player_input()\n",
    "\n",
    "    turn = choose_first()\n",
    "    print(turn + 'go first')\n",
    "\n",
    "    board = [' ',' ',' ',' ',' ',' ',' ',' ',' ',' ']\n",
    "\n",
    "    game_on = ready()\n",
    "\n",
    "    while game_on:\n",
    "        if turn == 'Player1':\n",
    "\n",
    "            display_board(board)    \n",
    "            position = player_choice(board)\n",
    "            place_marker(board,player1,position)\n",
    "\n",
    "            if win_check(board,player1):\n",
    "                print('A Winner is player1')\n",
    "                game_on = False\n",
    "            else:\n",
    "                if full_board_check(board):\n",
    "                    print('This game is tie')\n",
    "                    game_on = False\n",
    "\n",
    "                else:\n",
    "                    turn = 'Player2'\n",
    "\n",
    "        else:\n",
    "\n",
    "            display_board(board)    \n",
    "            position = player_choice(board)\n",
    "            place_marker(board,player2,position)\n",
    "            display_board(board)\n",
    "\n",
    "            if win_check(board,player2):\n",
    "                print('A Winner is player2')\n",
    "                game_on = False\n",
    "            else:\n",
    "                if full_board_check(board):\n",
    "                    print('This game is tie')\n",
    "                    game_on = False\n",
    "\n",
    "                else:\n",
    "                    turn = 'Player1'\n",
    "\n",
    "    if not replay():\n",
    "        break"
   ]
  },
  {
   "cell_type": "code",
   "execution_count": null,
   "id": "f72b4c35",
   "metadata": {},
   "outputs": [],
   "source": []
  }
 ],
 "metadata": {
  "kernelspec": {
   "display_name": "Python 3 (ipykernel)",
   "language": "python",
   "name": "python3"
  },
  "language_info": {
   "codemirror_mode": {
    "name": "ipython",
    "version": 3
   },
   "file_extension": ".py",
   "mimetype": "text/x-python",
   "name": "python",
   "nbconvert_exporter": "python",
   "pygments_lexer": "ipython3",
   "version": "3.11.3"
  }
 },
 "nbformat": 4,
 "nbformat_minor": 5
}
